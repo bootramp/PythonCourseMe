{
 "cells": [
  {
   "cell_type": "markdown",
   "id": "c8d94f08",
   "metadata": {},
   "source": [
    "<h1 style=\"font-size:10rem;color:blue;\">Python Learning</h1>"
   ]
  },
  {
   "cell_type": "markdown",
   "id": "cb1f0031",
   "metadata": {},
   "source": [
    "# Python For Adults"
   ]
  },
  {
   "cell_type": "markdown",
   "id": "a68afa36",
   "metadata": {},
   "source": [
    "<img src=\"https://res.cloudinary.com/practicaldev/image/fetch/s--YCJxZP4V--/c_imagga_scale,f_auto,fl_progressive,h_420,q_auto,w_1000/https://dev-to-uploads.s3.amazonaws.com/i/tteuu4xw5tomxb7l0xjx.png\">"
   ]
  },
  {
   "cell_type": "markdown",
   "id": "afa7ec1b",
   "metadata": {},
   "source": [
    "<h1 style=\"font-size:4rem;color:red;\">Session 1</h1>"
   ]
  },
  {
   "cell_type": "markdown",
   "id": "2d1c0c1d",
   "metadata": {},
   "source": [
    "In the first session, we learned to use vscode software for Python to implement our codes.\n",
    "So, for this, we download and install this software from the reference site"
   ]
  },
  {
   "cell_type": "markdown",
   "id": "0dedd8ec",
   "metadata": {},
   "source": [
    "<img src=\"https://www.vectorlogo.zone/logos/visualstudio_code/visualstudio_code-ar21.png\">"
   ]
  },
  {
   "cell_type": "markdown",
   "id": "10c7f02a",
   "metadata": {},
   "source": [
    "The steps to install and run this software are simple, and in case of problems, you can refer to YouTube :)))\n",
    "If you did not have any problems in the installation process of this software, run the software and follow the following steps:"
   ]
  },
  {
   "cell_type": "markdown",
   "id": "856e267c",
   "metadata": {},
   "source": [
    "1- Download and install Python from python.org"
   ]
  },
  {
   "cell_type": "markdown",
   "id": "5db3d620",
   "metadata": {},
   "source": [
    "2- Open VScode and download Python Extension"
   ]
  },
  {
   "cell_type": "markdown",
   "id": "068e6e02",
   "metadata": {},
   "source": [
    "In the end, everything is right and desirable . Now you can easily code and see its output"
   ]
  },
  {
   "cell_type": "code",
   "execution_count": 5,
   "id": "c129f6ff",
   "metadata": {},
   "outputs": [
    {
     "name": "stdout",
     "output_type": "stream",
     "text": [
      "Hello World!\n"
     ]
    }
   ],
   "source": [
    "print(\"Hello World!\")"
   ]
  },
  {
   "cell_type": "markdown",
   "id": "0db3acc1",
   "metadata": {},
   "source": [
    "This is your first programming code, if you can see its output, congratulations, you have entered the world of programming"
   ]
  },
  {
   "cell_type": "markdown",
   "id": "a4abaedf",
   "metadata": {},
   "source": [
    "<h1 style=\"font-size:4rem;color:red;\">Session 2</h1>"
   ]
  },
  {
   "cell_type": "markdown",
   "id": "c46cbfab",
   "metadata": {},
   "source": [
    "The most basic thing in a programming language is to have a variable to store data . Variables can have any name, meaningful or meaningless , It can even be a character . for example :"
   ]
  },
  {
   "cell_type": "code",
   "execution_count": 7,
   "id": "17e78606",
   "metadata": {},
   "outputs": [],
   "source": [
    "x = 10\n",
    "number = 20\n",
    "First_number = 30"
   ]
  },
  {
   "cell_type": "markdown",
   "id": "337c8f4a",
   "metadata": {},
   "source": [
    "We can even define variables that initially have no value for example : "
   ]
  },
  {
   "cell_type": "code",
   "execution_count": 8,
   "id": "f58bbbda",
   "metadata": {},
   "outputs": [],
   "source": [
    "x = None\n",
    "number = None\n",
    "First_number = None"
   ]
  },
  {
   "cell_type": "markdown",
   "id": "e98a7d03",
   "metadata": {},
   "source": [
    "With this method, we can define variables without a value as global and use it throughout the program."
   ]
  },
  {
   "cell_type": "markdown",
   "id": "81b95ab5",
   "metadata": {},
   "source": [
    "But it is not always necessary that the value of a variable is predefined. Sometimes it is necessary to get the value of a variable by the user and perform processing on it , for example :"
   ]
  },
  {
   "cell_type": "code",
   "execution_count": null,
   "id": "70de9ff6",
   "metadata": {},
   "outputs": [],
   "source": [
    "x = input()\n",
    "number = input()\n",
    "First_number = input()"
   ]
  },
  {
   "cell_type": "markdown",
   "id": "0a53b361",
   "metadata": {},
   "source": [
    "By default, all the values received by Python are in the form of characters, so if you insist on receiving the correct value, you must enter the code in the following form :"
   ]
  },
  {
   "cell_type": "code",
   "execution_count": null,
   "id": "cfcf52a7",
   "metadata": {},
   "outputs": [],
   "source": [
    "x = int(input())\n",
    "number = int(input())\n",
    "First_number = int(input())"
   ]
  },
  {
   "cell_type": "markdown",
   "id": "437ebafc",
   "metadata": {},
   "source": [
    "According to the above, we want to write meaningful code that receives two values from the user and shows us its output, which is the sum of the two values : "
   ]
  },
  {
   "cell_type": "code",
   "execution_count": 11,
   "id": "fc6e90ec",
   "metadata": {},
   "outputs": [
    {
     "name": "stdout",
     "output_type": "stream",
     "text": [
      "Insert First Number : 13\n",
      "Insert Second Number : 12\n",
      "Result of Sum is :  25\n"
     ]
    }
   ],
   "source": [
    "x = int(input(\"Insert First Number : \"))\n",
    "y = int(input(\"Insert Second Number : \"))\n",
    "sum = x + y\n",
    "print(\"Result of Sum is : \" , sum)"
   ]
  },
  {
   "cell_type": "markdown",
   "id": "42e7d507",
   "metadata": {},
   "source": [
    "If we want to enter decimal numbers :"
   ]
  },
  {
   "cell_type": "code",
   "execution_count": 12,
   "id": "3f9081db",
   "metadata": {},
   "outputs": [
    {
     "name": "stdout",
     "output_type": "stream",
     "text": [
      "Insert First Number : 12.3\n",
      "Insert First Number : 13.2\n",
      "Result of Sum is :  25.5\n"
     ]
    }
   ],
   "source": [
    "x = float(input(\"Insert First Number : \"))\n",
    "y = float(input(\"Insert First Number : \"))\n",
    "sum = x + y\n",
    "print(\"Result of Sum is : \" , sum)"
   ]
  },
  {
   "cell_type": "markdown",
   "id": "1eb512e1",
   "metadata": {},
   "source": [
    "Now, if our input value is a string :\n"
   ]
  },
  {
   "cell_type": "code",
   "execution_count": 14,
   "id": "cf7f4cfa",
   "metadata": {},
   "outputs": [
    {
     "name": "stdout",
     "output_type": "stream",
     "text": [
      "Content 1 Content 2\n"
     ]
    }
   ],
   "source": [
    "str1 = \"Content 1\"\n",
    "str2 = \"Content 2\"\n",
    "print(str1 + \" \" + str2)"
   ]
  },
  {
   "cell_type": "markdown",
   "id": "f1986c78",
   "metadata": {},
   "source": [
    "If we want to receive the same value as a string from the user :"
   ]
  },
  {
   "cell_type": "code",
   "execution_count": 16,
   "id": "3933f734",
   "metadata": {},
   "outputs": [
    {
     "name": "stdout",
     "output_type": "stream",
     "text": [
      "Content 1 = Python\n",
      "Content 2 = Learning\n",
      "Python Learning\n"
     ]
    }
   ],
   "source": [
    "str1 = input(\"Content 1 = \")\n",
    "str2 = input(\"Content 2 = \")\n",
    "print(str1 + \" \" + str2)"
   ]
  },
  {
   "cell_type": "markdown",
   "id": "649771a2",
   "metadata": {},
   "source": [
    "# Arrays"
   ]
  },
  {
   "cell_type": "markdown",
   "id": "693fd3e3",
   "metadata": {},
   "source": [
    "Arrays are houses starting from zero to the end.\n",
    "Different values are placed in these arrays, which will be returned to us by calling each house ,for example :"
   ]
  },
  {
   "cell_type": "code",
   "execution_count": null,
   "id": "bf0be76d",
   "metadata": {},
   "outputs": [],
   "source": [
    "array_1 = [123 , 124 , 234 , 345 , 567]"
   ]
  },
  {
   "cell_type": "markdown",
   "id": "d7ff8d67",
   "metadata": {},
   "source": [
    "In the example above, there are five values in our array, starting from 0 and ending at number 4."
   ]
  },
  {
   "cell_type": "markdown",
   "id": "fa63752b",
   "metadata": {},
   "source": [
    "We give more examples to better understand this topic"
   ]
  },
  {
   "cell_type": "code",
   "execution_count": 17,
   "id": "52751ae8",
   "metadata": {},
   "outputs": [
    {
     "name": "stdout",
     "output_type": "stream",
     "text": [
      "123\n",
      "124 345\n"
     ]
    }
   ],
   "source": [
    "array_1 = [123 , 124 , 234 , 345 , 567]\n",
    "print(array_1[0])\n",
    "print(array_1[1] , array_1[3])"
   ]
  },
  {
   "cell_type": "markdown",
   "id": "fbf4727d",
   "metadata": {},
   "source": [
    "One of the practical options in using arrays is the append option.\n",
    "This option adds any value it gets to the last house of the array , for example :"
   ]
  },
  {
   "cell_type": "code",
   "execution_count": 18,
   "id": "57b05905",
   "metadata": {},
   "outputs": [
    {
     "name": "stdout",
     "output_type": "stream",
     "text": [
      "[123, 124, 234, 345, 567, 555]\n"
     ]
    }
   ],
   "source": [
    "array_1 = [123 , 124 , 234 , 345 , 567]\n",
    "array_1.append(555)\n",
    "print(array_1)"
   ]
  },
  {
   "cell_type": "markdown",
   "id": "8a09eacf",
   "metadata": {},
   "source": [
    "The next option is to delete values :"
   ]
  },
  {
   "cell_type": "code",
   "execution_count": 19,
   "id": "c0c97d4f",
   "metadata": {},
   "outputs": [
    {
     "name": "stdout",
     "output_type": "stream",
     "text": [
      "[123, 124, 234, 567]\n"
     ]
    }
   ],
   "source": [
    "array_1 = [123 , 124 , 234 , 345 , 567]\n",
    "array_1.remove(345)\n",
    "print(array_1)"
   ]
  },
  {
   "cell_type": "markdown",
   "id": "bf3011de",
   "metadata": {},
   "source": [
    "The next two options are the options to reverse and sort the array :"
   ]
  },
  {
   "cell_type": "code",
   "execution_count": 20,
   "id": "31bee454",
   "metadata": {},
   "outputs": [
    {
     "name": "stdout",
     "output_type": "stream",
     "text": [
      "[567, 345, 234, 124, 123]\n",
      "[123, 124, 234, 345, 567]\n"
     ]
    }
   ],
   "source": [
    "array_1 = [123 , 124 , 234 , 345 , 567]\n",
    "array_1.reverse()\n",
    "print(array_1)\n",
    "array_1.sort()\n",
    "print(array_1)"
   ]
  },
  {
   "cell_type": "markdown",
   "id": "c98f0f19",
   "metadata": {},
   "source": [
    "# ِِDictionary"
   ]
  },
  {
   "cell_type": "markdown",
   "id": "1e607e8b",
   "metadata": {},
   "source": [
    "Dictionaries in Python are a table model that has two columns . We call the first column 'key' and the second column 'value' :"
   ]
  },
  {
   "cell_type": "code",
   "execution_count": 25,
   "id": "9d843ab5",
   "metadata": {},
   "outputs": [
    {
     "name": "stdout",
     "output_type": "stream",
     "text": [
      " price for Spaghetti is  25$\n",
      " price for Kebab is  10$\n",
      " And price for Chicken is  10\n"
     ]
    }
   ],
   "source": [
    "foods = {\n",
    "    \"kebab\" : \"10$\",\n",
    "    \"spaghetti\" : \"25$\" ,\n",
    "    \"Chicken\" : 10 ,\n",
    "    \"Omelette\" : \"5$\"\n",
    "}\n",
    "print(\" price for Spaghetti is  \" + foods[\"spaghetti\"] + \"\\n\",\"price for Kebab is  \" +  foods[\"kebab\"] + \"\\n\" ,\"And price for Chicken is  \" + str(foods[\"Chicken\"]))"
   ]
  },
  {
   "cell_type": "markdown",
   "id": "540e4225",
   "metadata": {},
   "source": [
    "<h1 style=\"font-size:4rem;color:red;\">Session 3</h1>"
   ]
  },
  {
   "cell_type": "markdown",
   "id": "50c399d5",
   "metadata": {},
   "source": [
    "# IF"
   ]
  },
  {
   "cell_type": "markdown",
   "id": "5da5e9ce",
   "metadata": {},
   "source": [
    "All the commands in the structure of a program are not done by just taking a simple input and printing it , Sometimes, in the process of working a program, there are situations where it is necessary to make decisions to continue , We call this situation, conditions and 'if' is used . for example : "
   ]
  },
  {
   "cell_type": "code",
   "execution_count": 27,
   "id": "09f2be4b",
   "metadata": {},
   "outputs": [
    {
     "name": "stdout",
     "output_type": "stream",
     "text": [
      "Insert a Nmuber :  5\n",
      "The insert number is less than 10\n"
     ]
    }
   ],
   "source": [
    "x = int(input(\"Insert a Nmuber :  \"))\n",
    "if x < 10 :\n",
    "    print(\"The insert number is less than 10\")"
   ]
  },
  {
   "cell_type": "markdown",
   "id": "c666b45d",
   "metadata": {},
   "source": [
    "But if our input does not match the value of the condition , Here we use the 'else' command to perform an operation other than the condition , for example :"
   ]
  },
  {
   "cell_type": "code",
   "execution_count": 28,
   "id": "e9eb2d04",
   "metadata": {},
   "outputs": [
    {
     "name": "stdout",
     "output_type": "stream",
     "text": [
      "Insert a Nmuber :  12\n",
      "The insert number is bigger than 10\n"
     ]
    }
   ],
   "source": [
    "x = int(input(\"Insert a Nmuber :  \"))\n",
    "if x < 10 :\n",
    "    print(\"The insert number is less than 10\")\n",
    "else :\n",
    "    print(\"The insert number is bigger than 10\")"
   ]
  },
  {
   "cell_type": "markdown",
   "id": "55a90b7f",
   "metadata": {},
   "source": [
    "Another condition to use if is when our input is a string :"
   ]
  },
  {
   "cell_type": "code",
   "execution_count": 29,
   "id": "64f7b792",
   "metadata": {},
   "outputs": [
    {
     "name": "stdout",
     "output_type": "stream",
     "text": [
      "Do you want to buy some chips ? y\n",
      "Give me 10 dollars\n"
     ]
    }
   ],
   "source": [
    "question = input(\"Do you want to buy some chips ? \")\n",
    "if question == 'y' :\n",
    "    print(\"Give me 10 dollars\")\n",
    "else :\n",
    "    print(\"Have a nice day !\")"
   ]
  },
  {
   "cell_type": "markdown",
   "id": "1febd5e3",
   "metadata": {},
   "source": [
    "Optionally, we can widen the conditions or answer fields , \n",
    "Answer us the conditions that each of the inputs had"
   ]
  },
  {
   "cell_type": "code",
   "execution_count": 30,
   "id": "4f9a6fd7",
   "metadata": {},
   "outputs": [
    {
     "name": "stdout",
     "output_type": "stream",
     "text": [
      "Do you want to buy some chips ? ye\n",
      "Give me 10 dollars\n"
     ]
    }
   ],
   "source": [
    "question = input(\"Do you want to buy some chips ? \")\n",
    "if question == 'y' or question == 'yes' or question == 'ye' or question == 'Y' :\n",
    "    print(\"Give me 10 dollars\")\n",
    "else :\n",
    "    print(\"Have a nice day !\")"
   ]
  },
  {
   "cell_type": "markdown",
   "id": "f035b32a",
   "metadata": {},
   "source": [
    "# While"
   ]
  },
  {
   "cell_type": "markdown",
   "id": "07d52e9b",
   "metadata": {},
   "source": [
    "If we want a condition that creates a loop for us so that the codes are repeated over and over again, we use the 'while' command. for example : "
   ]
  },
  {
   "cell_type": "code",
   "execution_count": 36,
   "id": "3b9e6dfe",
   "metadata": {},
   "outputs": [
    {
     "name": "stdout",
     "output_type": "stream",
     "text": [
      "What do you want to print?  Python\n",
      "How many time ?  5\n",
      "Python\n",
      "Python\n",
      "Python\n",
      "Python\n",
      "Python\n"
     ]
    }
   ],
   "source": [
    "insert_1 = input(\"What do you want to print?  \")\n",
    "insert_2 = int(input(\"How many time ?  \"))\n",
    "while (insert_2 > 0) :\n",
    "    print(insert_1)\n",
    "    insert_2-=1"
   ]
  },
  {
   "cell_type": "markdown",
   "id": "43c9cad0",
   "metadata": {},
   "source": [
    "# Random"
   ]
  },
  {
   "cell_type": "markdown",
   "id": "0ecfdcef",
   "metadata": {},
   "source": [
    "There is a library called Random, which randomly selects the number or string we have given to it and gives it to us. for example : "
   ]
  },
  {
   "cell_type": "code",
   "execution_count": 37,
   "id": "14eab22a",
   "metadata": {},
   "outputs": [
    {
     "name": "stdout",
     "output_type": "stream",
     "text": [
      "How many random numbers do you want to be printed?  5\n",
      "22\n",
      "8\n",
      "30\n",
      "20\n",
      "31\n"
     ]
    }
   ],
   "source": [
    "import random\n",
    "insert_1 = int(input(\"How many random numbers do you want to be printed?  \"))\n",
    "while (insert_1 > 0) :\n",
    "    ran = random.randint(1, 40)\n",
    "    print(ran)\n",
    "    insert_1 -= 1"
   ]
  },
  {
   "cell_type": "markdown",
   "id": "e6c2b836",
   "metadata": {},
   "source": [
    "Now we want to use the random class to select a string from an array : "
   ]
  },
  {
   "cell_type": "code",
   "execution_count": 38,
   "id": "dfa84c31",
   "metadata": {},
   "outputs": [
    {
     "name": "stdout",
     "output_type": "stream",
     "text": [
      "How many random names do you want to be printed?  4\n",
      "['Betty White']\n",
      "['Danny DeVito']\n",
      "['Lucille Ball']\n",
      "['Danny DeVito']\n"
     ]
    }
   ],
   "source": [
    "import random\n",
    "arr = [\"Betty White\" , \"Morgan Freeman\" , \"Robin Williams\" ,\n",
    "         \"Denzel Washington\" , \"Michael J. Fox\" , \"Keanu Reeves\" , \"Danny DeVito\" , \"Lucille Ball\"]\n",
    "insert_1 = int(input(\"How many random names do you want to be printed?  \"))\n",
    "while (insert_1 > 0) :\n",
    "    ran = random.choices(arr)\n",
    "    print(ran)\n",
    "    insert_1 -= 1"
   ]
  },
  {
   "cell_type": "markdown",
   "id": "149fa25e",
   "metadata": {},
   "source": [
    " <h1 style=\"font-size:4rem;color:red;\">Session 4</h1>"
   ]
  },
  {
   "cell_type": "markdown",
   "id": "4b0a48eb",
   "metadata": {},
   "source": [
    "# For"
   ]
  },
  {
   "cell_type": "markdown",
   "id": "8740042b",
   "metadata": {},
   "source": [
    "The For statement is another way to create a loop to repeat a process a specified number of times , for example :"
   ]
  },
  {
   "cell_type": "code",
   "execution_count": 39,
   "id": "8b9ad4f5",
   "metadata": {},
   "outputs": [
    {
     "name": "stdout",
     "output_type": "stream",
     "text": [
      "Please insert score : 10\n",
      "Please insert score : 20\n",
      "Please insert score : 30\n",
      "Please insert score : 40\n",
      "Please insert score : 50\n",
      "150\n"
     ]
    }
   ],
   "source": [
    "sum = 0\n",
    "for i in range(0 , 5) :\n",
    "    x = int(input(\"Please insert score : \"))\n",
    "    sum += x\n",
    "print(sum)"
   ]
  },
  {
   "cell_type": "markdown",
   "id": "f8c17047",
   "metadata": {},
   "source": [
    "As a further example, the Fibonacci function :"
   ]
  },
  {
   "cell_type": "code",
   "execution_count": 41,
   "id": "d5683470",
   "metadata": {},
   "outputs": [
    {
     "name": "stdout",
     "output_type": "stream",
     "text": [
      "0\n",
      "1\n",
      "1\n",
      "2\n",
      "3\n",
      "5\n",
      "8\n",
      "13\n"
     ]
    }
   ],
   "source": [
    "x , y = 0 ,1\n",
    "print(x)\n",
    "print(y)\n",
    "for i in range(0,6) :\n",
    "    print(x + y)\n",
    "    z = x\n",
    "    x = y\n",
    "    y = z + x"
   ]
  },
  {
   "cell_type": "markdown",
   "id": "03106a48",
   "metadata": {},
   "source": [
    "# Function"
   ]
  },
  {
   "cell_type": "markdown",
   "id": "fdf5f638",
   "metadata": {},
   "source": [
    "Functions are created to make our work easier . In order to write the code once, use it many times . So we write the structure of a program or code as a function, and for other uses, it is enough to call only the function. for example :"
   ]
  },
  {
   "cell_type": "code",
   "execution_count": 44,
   "id": "c0b8a0ff",
   "metadata": {},
   "outputs": [
    {
     "name": "stdout",
     "output_type": "stream",
     "text": [
      "This is Fibonacci function and we are going to call it ---> \n",
      "Start\n",
      "0\n",
      "1\n",
      "1\n",
      "2\n",
      "3\n",
      "5\n",
      "8\n",
      "13\n",
      "Finish\n"
     ]
    }
   ],
   "source": [
    "def fibu ():\n",
    "    x , y = 0 ,1\n",
    "    print(x)\n",
    "    print(y)\n",
    "    for i in range(0,6) :\n",
    "        print(x + y)\n",
    "        z = x\n",
    "        x = y\n",
    "        y = z + x\n",
    "print(\"This is Fibonacci function and we are going to call it ---> \")\n",
    "print(\"Start\")\n",
    "fibu()\n",
    "print(\"Finish\")"
   ]
  },
  {
   "cell_type": "markdown",
   "id": "6ccc3dba",
   "metadata": {},
   "source": [
    " <h1 style=\"font-size:4rem;color:red;\">Session 5</h1>"
   ]
  },
  {
   "cell_type": "markdown",
   "id": "f736cf92",
   "metadata": {},
   "source": [
    "# DataBase (SQLite3)"
   ]
  },
  {
   "cell_type": "markdown",
   "id": "fc90c92c",
   "metadata": {},
   "source": [
    "This database, like its counterparts, is a database model that has rows and columns, it allows us to edit, update, create and delete fields. To start, we need to download and install its library first . We do this very simply with the following command in the vscode terminal :"
   ]
  },
  {
   "cell_type": "markdown",
   "id": "ccd46d59",
   "metadata": {},
   "source": [
    "> pip install sqlite3"
   ]
  },
  {
   "cell_type": "markdown",
   "id": "ee89181f",
   "metadata": {},
   "source": [
    "Now it is enough to call the sqlite library :"
   ]
  },
  {
   "cell_type": "code",
   "execution_count": null,
   "id": "927b928c",
   "metadata": {},
   "outputs": [],
   "source": [
    "import sqlite3"
   ]
  },
  {
   "cell_type": "markdown",
   "id": "150bb53b",
   "metadata": {},
   "source": [
    "After installing this library , To use a database, we use the 'Navicat Premium' program, which is a handy and lightweight program compared to its peers. You can easily download this program from internal sites ."
   ]
  },
  {
   "cell_type": "markdown",
   "id": "68eacb58",
   "metadata": {},
   "source": [
    "In the discussion of SQL, we have four principles (We call it 'CRUD') :\n",
    "> 1. Create (insert)\n",
    "> 2. Read (select)\n",
    "> 3. Update\n",
    "> 4. Delete"
   ]
  },
  {
   "cell_type": "markdown",
   "id": "a9ee1316",
   "metadata": {},
   "source": [
    "After installing this program, we only need to create a database inside it and put the path of this database next to our Python file. The database file is known with the extension (.db) , We named this database 'db_sample.db' and placed it right next to our Python file. To call this database and connecting to it in Python, it is enough to enter the following command code :"
   ]
  },
  {
   "cell_type": "code",
   "execution_count": null,
   "id": "c234bdf0",
   "metadata": {},
   "outputs": [],
   "source": [
    "with sqlite3.connect('db_sample.db') as conn:"
   ]
  },
  {
   "cell_type": "markdown",
   "id": "41ab1248",
   "metadata": {},
   "source": [
    ">Tip : 'conn' is a variable"
   ]
  },
  {
   "cell_type": "markdown",
   "id": "f0be6e7b",
   "metadata": {},
   "source": [
    "Now, it is enough to create the desired columns in the database through the mentioned program, so that we can start filling them only through Python. In our agenda, we need a table with three columns containing id, grade, and name . These columns are supposed to be filled with the values of students' grades . Finally, it is necessary to assign a name to this table or entity , The name we assigned to it is 'students' ."
   ]
  },
  {
   "cell_type": "markdown",
   "id": "e601954d",
   "metadata": {},
   "source": [
    "To apply changes and add or even delete items from the table, we need to use a command called 'cursor' , We append this option to 'conn' and put it inside the 'cur' variable . Actually, the cursor is the interface between us and the database . To execute commands in sql, we must use 'sql query' . This work is for executing SQL commands ."
   ]
  },
  {
   "cell_type": "code",
   "execution_count": null,
   "id": "adc0a20f",
   "metadata": {},
   "outputs": [],
   "source": [
    "cur = conn.cursor()"
   ]
  },
  {
   "cell_type": "markdown",
   "id": "6379b0e2",
   "metadata": {},
   "source": [
    ">Tip : The important thing is to write sql queries in \"capital letters\""
   ]
  },
  {
   "cell_type": "markdown",
   "id": "bb7f000f",
   "metadata": {},
   "source": [
    "# Read"
   ]
  },
  {
   "cell_type": "markdown",
   "id": "5f7d7ee0",
   "metadata": {},
   "source": [
    "In the first query, we write a command that selects the columns of the students table : "
   ]
  },
  {
   "cell_type": "code",
   "execution_count": null,
   "id": "71a6b82c",
   "metadata": {},
   "outputs": [],
   "source": [
    "cur.execute(\"SELECT id,grade,name FROM students\")"
   ]
  },
  {
   "cell_type": "markdown",
   "id": "4855046f",
   "metadata": {},
   "source": [
    "Now, we have selected a table with specified columns, and we need to be given this attribute , For this, there is a command code called 'fetch' , This command code can be used in two ways : One is 'fetchall' , which returns all rows of the specified column , Another is 'fetchone' which returns only one row ."
   ]
  },
  {
   "cell_type": "code",
   "execution_count": null,
   "id": "f44463a2",
   "metadata": {},
   "outputs": [],
   "source": [
    "st = cur.fetchall() or st = cur.fetchone()"
   ]
  },
  {
   "cell_type": "markdown",
   "id": "f70d0095",
   "metadata": {},
   "source": [
    "Here 'st' is a variable to get from fetch to be used . "
   ]
  },
  {
   "cell_type": "markdown",
   "id": "4fffd5dc",
   "metadata": {},
   "source": [
    ">Tip : sqlite is case sensitive"
   ]
  },
  {
   "cell_type": "markdown",
   "id": "ae88956b",
   "metadata": {},
   "source": [
    "Eventually :"
   ]
  },
  {
   "cell_type": "code",
   "execution_count": null,
   "id": "b3444ca7",
   "metadata": {},
   "outputs": [],
   "source": [
    "with sqlite3.connect('db_sample.db') as conn:\n",
    "    cur = conn.cursor()\n",
    "    cur.execute(\"SELECT id,grade,name FROM students\")\n",
    "    st = cur.fetchall()\n",
    "    print(st)"
   ]
  },
  {
   "cell_type": "markdown",
   "id": "c9ccb4c9",
   "metadata": {},
   "source": [
    "# Create"
   ]
  },
  {
   "cell_type": "markdown",
   "id": "584312f2",
   "metadata": {},
   "source": [
    "Now we want to enter new values in our sql lines :"
   ]
  },
  {
   "cell_type": "code",
   "execution_count": null,
   "id": "412dcfa4",
   "metadata": {},
   "outputs": [],
   "source": [
    "cur.execute(\"INSERT INTO students (id,grade,name) VALUES (?, ?, ?)\" , (1,20,James))"
   ]
  },
  {
   "cell_type": "markdown",
   "id": "e5e08a78",
   "metadata": {},
   "source": [
    "With the 'INSERT' command, we insert (1,20,James) values into the (id,grade,name) columns of the 'students' table"
   ]
  },
  {
   "cell_type": "markdown",
   "id": "2f142f8f",
   "metadata": {},
   "source": [
    "Finally, we have to send this line into the database , For this, we use the 'commit' command :"
   ]
  },
  {
   "cell_type": "code",
   "execution_count": null,
   "id": "e2145787",
   "metadata": {},
   "outputs": [],
   "source": [
    "conn.commit()"
   ]
  },
  {
   "cell_type": "markdown",
   "id": "1355fd87",
   "metadata": {},
   "source": [
    "Eventually :"
   ]
  },
  {
   "cell_type": "code",
   "execution_count": null,
   "id": "53ecd929",
   "metadata": {},
   "outputs": [],
   "source": [
    "with sqlite3.connect('db_sample.db') as conn:\n",
    "    cur = conn.cursor()\n",
    "    cur.execute(\"INSERT INTO students (id,grade,name) VALUES (?, ?, ?)\" , (i,garde,names))\n",
    "    conn.commit()"
   ]
  },
  {
   "cell_type": "markdown",
   "id": "4b56b3ec",
   "metadata": {},
   "source": [
    "# Update"
   ]
  },
  {
   "cell_type": "markdown",
   "id": "044a4f01",
   "metadata": {},
   "source": [
    "Now we have a table whose first row is full, we used the insert command and read it, but sometimes it happens that we need to edit this row or rows. for this, we need to update this table , How ?"
   ]
  },
  {
   "cell_type": "code",
   "execution_count": null,
   "id": "48960f4e",
   "metadata": {},
   "outputs": [],
   "source": [
    "cur.execute(\"UPDATE students SET grade = ? WHERE id = ?\" , (12,2))"
   ]
  },
  {
   "cell_type": "markdown",
   "id": "b2e6451f",
   "metadata": {},
   "source": [
    "Here we say that, find the place where 'id' is equal to 2 and set the 'grade' value to 12 in that line."
   ]
  },
  {
   "cell_type": "markdown",
   "id": "6406089a",
   "metadata": {},
   "source": [
    "Like insert, this query needs to be committed , so :"
   ]
  },
  {
   "cell_type": "code",
   "execution_count": null,
   "id": "671a6acd",
   "metadata": {},
   "outputs": [],
   "source": [
    "conn.commit()"
   ]
  },
  {
   "cell_type": "markdown",
   "id": "57b37b8e",
   "metadata": {},
   "source": [
    "Eventually :"
   ]
  },
  {
   "cell_type": "code",
   "execution_count": null,
   "id": "33d92d95",
   "metadata": {},
   "outputs": [],
   "source": [
    "with sqlite3.connect('db_sample.db') as conn:\n",
    "    cur = conn.cursor()\n",
    "    cur.execute(\"UPDATE students SET grade = ? WHERE id = ?\" , (2,12))\n",
    "    conn.commit()"
   ]
  },
  {
   "cell_type": "markdown",
   "id": "840b504b",
   "metadata": {},
   "source": [
    "# Delete"
   ]
  },
  {
   "cell_type": "markdown",
   "id": "2269ee00",
   "metadata": {},
   "source": [
    "Finally, the only issue that remains is to remove a particular line from the table"
   ]
  },
  {
   "cell_type": "code",
   "execution_count": null,
   "id": "3aa1da6d",
   "metadata": {},
   "outputs": [],
   "source": [
    "cur.execute(\"DELETE FROM students WHERE id = 2\")"
   ]
  },
  {
   "cell_type": "markdown",
   "id": "e9d91dd9",
   "metadata": {},
   "source": [
    "In this code, it is said to find the place where the id is equal to 2 and delete it"
   ]
  },
  {
   "cell_type": "markdown",
   "id": "a0af69e6",
   "metadata": {},
   "source": [
    "Eventually :"
   ]
  },
  {
   "cell_type": "code",
   "execution_count": null,
   "id": "aa981233",
   "metadata": {},
   "outputs": [],
   "source": [
    "with sqlite3.connect('db_sample.db') as conn:\n",
    "    cur = conn.cursor()\n",
    "    cur.execute(\"DELETE FROM students WHERE id = 2\")"
   ]
  },
  {
   "cell_type": "markdown",
   "id": "28c8238d",
   "metadata": {},
   "source": [
    "# Example :"
   ]
  },
  {
   "cell_type": "markdown",
   "id": "c0eec572",
   "metadata": {},
   "source": [
    "In an example, we want to add a random library, put a number of names in an array and enter a score for them in the database completely randomly :"
   ]
  },
  {
   "cell_type": "code",
   "execution_count": null,
   "id": "ca85100e",
   "metadata": {},
   "outputs": [],
   "source": [
    "import sqlite3\n",
    "import random\n",
    "name = ['Unity Savage' , 'Troy Harris' , 'Philippa Gildon' , 'Tammy Ortega' , \n",
    "        'Simona Carter' , 'Gavin Welch' , 'Guy Frazier' , 'Lindsay Harris' , 'Fern Gardner']\n",
    "\n",
    "\n",
    "for i in range(1,10) :\n",
    "    with sqlite3.connect('db_sample.db') as conn:\n",
    "        #Create\n",
    "        names = random.choice(name)\n",
    "        garde = input(\"Garde --->  \")\n",
    "        cur = conn.cursor()\n",
    "        cur.execute(\"INSERT INTO students (id,grade,name) VALUES (?, ?, ?)\" , (i,garde,names))\n",
    "        conn.commit()\n",
    "        i+=1\n",
    "\n",
    "        #Read\n",
    "cur.execute(\"SELECT id,grade,name FROM students\")\n",
    "st = cur.fetchall()\n",
    "print(st)"
   ]
  },
  {
   "cell_type": "markdown",
   "id": "c04f3ee6",
   "metadata": {},
   "source": [
    "Here we create a table with 3 columns and 10 rows. we take the values of the 'name' field randomly from the 'name array' .the value of 'id' is equal to 'i', which ranges from \"1 to 10\" , the grade value is taken from the user every time"
   ]
  },
  {
   "cell_type": "code",
   "execution_count": null,
   "id": "6342c6bb",
   "metadata": {},
   "outputs": [],
   "source": []
  }
 ],
 "metadata": {
  "kernelspec": {
   "display_name": "Python 3 (ipykernel)",
   "language": "python",
   "name": "python3"
  },
  "language_info": {
   "codemirror_mode": {
    "name": "ipython",
    "version": 3
   },
   "file_extension": ".py",
   "mimetype": "text/x-python",
   "name": "python",
   "nbconvert_exporter": "python",
   "pygments_lexer": "ipython3",
   "version": "3.10.9"
  }
 },
 "nbformat": 4,
 "nbformat_minor": 5
}
